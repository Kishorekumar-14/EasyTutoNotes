{
  "nbformat": 4,
  "nbformat_minor": 0,
  "metadata": {
    "colab": {
      "provenance": [],
      "authorship_tag": "ABX9TyPZJolbawu9M5wfEPSEZrdT",
      "include_colab_link": true
    },
    "kernelspec": {
      "name": "python3",
      "display_name": "Python 3"
    },
    "language_info": {
      "name": "python"
    }
  },
  "cells": [
    {
      "cell_type": "markdown",
      "metadata": {
        "id": "view-in-github",
        "colab_type": "text"
      },
      "source": [
        "<a href=\"https://colab.research.google.com/github/Kishorekumar-14/EasyTutoNotes/blob/master/CLass_and_Objects.ipynb\" target=\"_parent\"><img src=\"https://colab.research.google.com/assets/colab-badge.svg\" alt=\"Open In Colab\"/></a>"
      ]
    },
    {
      "cell_type": "code",
      "execution_count": 1,
      "metadata": {
        "colab": {
          "base_uri": "https://localhost:8080/"
        },
        "id": "PWhg6xxV-MFN",
        "outputId": "9586b64a-88fc-475e-ba96-8ecc0bd504c1"
      },
      "outputs": [
        {
          "output_type": "stream",
          "name": "stdout",
          "text": [
            "Phone1: Apple iPhone 14, Storage: 128GB, Battery: 3279mAh\n",
            "Phone2: Samsung Galaxy S23, Storage: 256GB, Battery: 3900mAh\n"
          ]
        }
      ],
      "source": [
        "class Smartphone:\n",
        "    def __init__(self, brand, model, storage, battery_capacity):\n",
        "        # Instance attributes\n",
        "        self.brand = brand\n",
        "        self.model = model\n",
        "        self.storage = storage\n",
        "        self.battery_capacity = battery_capacity\n",
        "\n",
        "# Creating instances of the class\n",
        "phone1 = Smartphone(\"Apple\", \"iPhone 14\", 128, 3279)\n",
        "phone2 = Smartphone(\"Samsung\", \"Galaxy S23\", 256, 3900)\n",
        "\n",
        "# Accessing instance attributes\n",
        "print(f\"Phone1: {phone1.brand} {phone1.model}, Storage: {phone1.storage}GB, Battery: {phone1.battery_capacity}mAh\")\n",
        "# Output: Phone1: Apple iPhone 14, Storage: 128GB, Battery: 3279mAh\n",
        "\n",
        "print(f\"Phone2: {phone2.brand} {phone2.model}, Storage: {phone2.storage}GB, Battery: {phone2.battery_capacity}mAh\")\n",
        "# Output: Phone2: Samsung Galaxy S23, Storage: 256GB, Battery: 3900mAh\n"
      ]
    },
    {
      "cell_type": "code",
      "source": [
        "class Laptop:\n",
        "    def __init__(self, brand, model, processor, ram, storage):\n",
        "        # Instance attributes\n",
        "        self.brand = brand\n",
        "        self.model = model\n",
        "        self.processor = processor\n",
        "        self.ram = ram  # in GB\n",
        "        self.storage = storage  # in GB\n",
        "\n",
        "    # Method to display laptop information\n",
        "    def display_info(self):\n",
        "        return (f\"Laptop Info: {self.brand} {self.model}\\n\"\n",
        "                f\"Processor: {self.processor}\\n\"\n",
        "                f\"RAM: {self.ram}GB\\n\"\n",
        "                f\"Storage: {self.storage}GB\")\n",
        "\n",
        "    # Method to upgrade RAM\n",
        "    def upgrade_ram(self, additional_ram):\n",
        "        self.ram += additional_ram\n",
        "        print(f\"RAM upgraded! New RAM: {self.ram}GB\")\n",
        "\n",
        "    # Method to check if laptop has enough storage\n",
        "    def check_storage(self, required_space):\n",
        "        if self.storage >= required_space:\n",
        "            return f\"Sufficient storage available: {self.storage}GB\"\n",
        "        else:\n",
        "            return f\"Not enough storage. Available: {self.storage}GB, Required: {required_space}GB\"\n",
        "\n",
        "# Creating an instance of the Laptop class\n",
        "laptop1 = Laptop(\"Dell\", \"XPS 15\", \"Intel Core i7\", 16, 512)\n",
        "\n",
        "# Displaying laptop information\n",
        "print(laptop1.display_info())\n",
        "\n",
        "# Upgrading the RAM\n",
        "laptop1.upgrade_ram(16)\n",
        "\n",
        "\n",
        "# Checking if laptop has enough storage for an application requiring 600 GB\n",
        "print(laptop1.check_storage(600))\n",
        "\n",
        "# Checking if laptop has enough storage for an application requiring 200 GB\n",
        "print(laptop1.check_storage(200))"
      ],
      "metadata": {
        "colab": {
          "base_uri": "https://localhost:8080/"
        },
        "id": "rYpdEcow-4Zx",
        "outputId": "fc785804-c1d2-4240-c050-b281c4f8d906"
      },
      "execution_count": 2,
      "outputs": [
        {
          "output_type": "stream",
          "name": "stdout",
          "text": [
            "Laptop Info: Dell XPS 15\n",
            "Processor: Intel Core i7\n",
            "RAM: 16GB\n",
            "Storage: 512GB\n",
            "RAM upgraded! New RAM: 32GB\n",
            "Not enough storage. Available: 512GB, Required: 600GB\n",
            "Sufficient storage available: 512GB\n"
          ]
        }
      ]
    }
  ]
}